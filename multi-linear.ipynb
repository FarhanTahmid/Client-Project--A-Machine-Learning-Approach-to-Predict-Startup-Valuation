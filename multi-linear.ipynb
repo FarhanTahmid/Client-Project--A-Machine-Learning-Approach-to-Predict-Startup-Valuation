{
 "cells": [
  {
   "cell_type": "code",
   "execution_count": 1,
   "metadata": {},
   "outputs": [],
   "source": [
    "import pandas as pd\n",
    "from sklearn.model_selection import train_test_split\n",
    "from sklearn.preprocessing import StandardScaler\n",
    "from sklearn.linear_model import LinearRegression\n",
    "from sklearn.metrics import r2_score\n",
    "import matplotlib.pyplot as plt\n",
    "import numpy as np"
   ]
  },
  {
   "cell_type": "code",
   "execution_count": 2,
   "metadata": {},
   "outputs": [],
   "source": [
    "dataset = pd.read_csv('Dataset-for-498-V4.csv')\n"
   ]
  },
  {
   "cell_type": "code",
   "execution_count": 3,
   "metadata": {},
   "outputs": [],
   "source": [
    "# Data preprocessing\n",
    "# Remove any irrelevant columns\n",
    "dataset = dataset[['Duration','Operational Cost', 'Total Fund', 'Revenue', 'Profit','Net Profit Margin', 'Valuation','Userbase','Daily Active User']]\n",
    "# Handling missing values (if any)\n",
    "dataset = dataset.dropna()"
   ]
  },
  {
   "cell_type": "code",
   "execution_count": 4,
   "metadata": {},
   "outputs": [
    {
     "data": {
      "text/html": [
       "<div>\n",
       "<style scoped>\n",
       "    .dataframe tbody tr th:only-of-type {\n",
       "        vertical-align: middle;\n",
       "    }\n",
       "\n",
       "    .dataframe tbody tr th {\n",
       "        vertical-align: top;\n",
       "    }\n",
       "\n",
       "    .dataframe thead th {\n",
       "        text-align: right;\n",
       "    }\n",
       "</style>\n",
       "<table border=\"1\" class=\"dataframe\">\n",
       "  <thead>\n",
       "    <tr style=\"text-align: right;\">\n",
       "      <th></th>\n",
       "      <th>Duration</th>\n",
       "      <th>Operational Cost</th>\n",
       "      <th>Total Fund</th>\n",
       "      <th>Revenue</th>\n",
       "      <th>Profit</th>\n",
       "      <th>Net Profit Margin</th>\n",
       "      <th>Valuation</th>\n",
       "      <th>Userbase</th>\n",
       "      <th>Daily Active User</th>\n",
       "    </tr>\n",
       "  </thead>\n",
       "  <tbody>\n",
       "    <tr>\n",
       "      <th>0</th>\n",
       "      <td>0.0</td>\n",
       "      <td>120000</td>\n",
       "      <td>1000000</td>\n",
       "      <td>520000</td>\n",
       "      <td>400000</td>\n",
       "      <td>0.77</td>\n",
       "      <td>1400000</td>\n",
       "      <td>200000</td>\n",
       "      <td>46000.0</td>\n",
       "    </tr>\n",
       "    <tr>\n",
       "      <th>1</th>\n",
       "      <td>0.5</td>\n",
       "      <td>120000</td>\n",
       "      <td>1000000</td>\n",
       "      <td>520000</td>\n",
       "      <td>400000</td>\n",
       "      <td>0.77</td>\n",
       "      <td>1400000</td>\n",
       "      <td>200000</td>\n",
       "      <td>46000.0</td>\n",
       "    </tr>\n",
       "    <tr>\n",
       "      <th>2</th>\n",
       "      <td>1.0</td>\n",
       "      <td>120000</td>\n",
       "      <td>1000000</td>\n",
       "      <td>520000</td>\n",
       "      <td>400000</td>\n",
       "      <td>0.77</td>\n",
       "      <td>1400000</td>\n",
       "      <td>200000</td>\n",
       "      <td>46000.0</td>\n",
       "    </tr>\n",
       "    <tr>\n",
       "      <th>3</th>\n",
       "      <td>1.5</td>\n",
       "      <td>220000</td>\n",
       "      <td>1000000</td>\n",
       "      <td>520000</td>\n",
       "      <td>300000</td>\n",
       "      <td>0.58</td>\n",
       "      <td>1300000</td>\n",
       "      <td>200000</td>\n",
       "      <td>46000.0</td>\n",
       "    </tr>\n",
       "    <tr>\n",
       "      <th>4</th>\n",
       "      <td>2.0</td>\n",
       "      <td>220000</td>\n",
       "      <td>1000000</td>\n",
       "      <td>520000</td>\n",
       "      <td>300000</td>\n",
       "      <td>0.58</td>\n",
       "      <td>1300000</td>\n",
       "      <td>200000</td>\n",
       "      <td>46000.0</td>\n",
       "    </tr>\n",
       "  </tbody>\n",
       "</table>\n",
       "</div>"
      ],
      "text/plain": [
       "   Duration  Operational Cost  Total Fund  Revenue  Profit  Net Profit Margin  \\\n",
       "0       0.0            120000     1000000   520000  400000               0.77   \n",
       "1       0.5            120000     1000000   520000  400000               0.77   \n",
       "2       1.0            120000     1000000   520000  400000               0.77   \n",
       "3       1.5            220000     1000000   520000  300000               0.58   \n",
       "4       2.0            220000     1000000   520000  300000               0.58   \n",
       "\n",
       "   Valuation  Userbase  Daily Active User  \n",
       "0    1400000    200000            46000.0  \n",
       "1    1400000    200000            46000.0  \n",
       "2    1400000    200000            46000.0  \n",
       "3    1300000    200000            46000.0  \n",
       "4    1300000    200000            46000.0  "
      ]
     },
     "execution_count": 4,
     "metadata": {},
     "output_type": "execute_result"
    }
   ],
   "source": [
    "def removePercentage(value):\n",
    "    decimal_value=value[:-1]\n",
    "    decimal_value=(int(decimal_value)/100)\n",
    "    return decimal_value\n",
    "\n",
    "dataset['Net Profit Margin'] = dataset['Net Profit Margin'].apply(lambda x: removePercentage(x))\n",
    "dataset.head()"
   ]
  },
  {
   "cell_type": "code",
   "execution_count": 5,
   "metadata": {},
   "outputs": [],
   "source": [
    "X = dataset.drop('Valuation', axis=1)\n",
    "y = dataset['Valuation']"
   ]
  },
  {
   "cell_type": "code",
   "execution_count": 6,
   "metadata": {},
   "outputs": [],
   "source": [
    "# Feature scaling\n",
    "scaler = StandardScaler()\n",
    "X_scaled = scaler.fit_transform(X)"
   ]
  },
  {
   "cell_type": "code",
   "execution_count": 7,
   "metadata": {},
   "outputs": [],
   "source": [
    "# Split the data into training and testing sets\n",
    "X_train, X_test, y_train, y_test = train_test_split(X_scaled, y, test_size=0.2, random_state=42)\n"
   ]
  },
  {
   "cell_type": "code",
   "execution_count": 8,
   "metadata": {},
   "outputs": [
    {
     "name": "stdout",
     "output_type": "stream",
     "text": [
      "Accuracy: 100.00%\n"
     ]
    },
    {
     "data": {
      "image/png": "[encoded data removed]",
      "text/plain": [
       "<Figure size 432x288 with 1 Axes>"
      ]
     },
     "metadata": {
      "needs_background": "light"
     },
     "output_type": "display_data"
    }
   ],
   "source": [
    "# Model training\n",
    "model = LinearRegression()\n",
    "model.fit(X_train, y_train)\n",
    "\n",
    "# Model evaluation\n",
    "y_pred = model.predict(X_test)\n",
    "accuracy = r2_score(y_test, y_pred) * 100\n",
    "print(\"Accuracy: {:.2f}%\".format(accuracy))\n",
    "\n",
    "# Plotting the results\n",
    "test_range = np.arange(0, len(y_test))\n",
    "plt.plot(test_range, y_test, label='Actual Valuation')\n",
    "plt.plot(test_range, y_pred, label='Predicted Valuation')\n",
    "plt.xlabel('Test Data Points')\n",
    "plt.ylabel('Valuation')\n",
    "plt.title('Multiple Linear Regression: Actual vs. Predicted Valuation')\n",
    "plt.legend()\n",
    "plt.show()"
   ]
  }
 ],
 "metadata": {
  "kernelspec": {
   "display_name": "base",
   "language": "python",
   "name": "python3"
  },
  "language_info": {
   "codemirror_mode": {
    "name": "ipython",
    "version": 3
   },
   "file_extension": ".py",
   "mimetype": "text/x-python",
   "name": "python",
   "nbconvert_exporter": "python",
   "pygments_lexer": "ipython3",
   "version": "3.9.12"
  },
  "orig_nbformat": 4
 },
 "nbformat": 4,
 "nbformat_minor": 2
}
