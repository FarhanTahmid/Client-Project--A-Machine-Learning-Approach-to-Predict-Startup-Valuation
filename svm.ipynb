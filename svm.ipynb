{
 "cells": [
  {
   "cell_type": "code",
   "execution_count": 89,
   "metadata": {},
   "outputs": [],
   "source": [
    "import pandas as pd\n",
    "import numpy as np\n",
    "import matplotlib.pyplot as plt\n",
    "from sklearn.model_selection import train_test_split\n",
    "from sklearn.svm import SVR\n",
    "from sklearn.metrics import mean_squared_error, r2_score\n",
    "from sklearn.preprocessing import StandardScaler"
   ]
  },
  {
   "cell_type": "code",
   "execution_count": 90,
   "metadata": {},
   "outputs": [],
   "source": [
    "dataset = pd.read_csv('Dataset-for-498-V4.csv')\n"
   ]
  },
  {
   "cell_type": "code",
   "execution_count": 91,
   "metadata": {},
   "outputs": [],
   "source": [
    "dataset = dataset[['Duration','Operational Cost', 'Total Fund', 'Revenue', 'Profit','Net Profit Margin', 'Valuation','Userbase','Daily Active User']]\n"
   ]
  },
  {
   "cell_type": "code",
   "execution_count": 92,
   "metadata": {},
   "outputs": [],
   "source": [
    "dataset = dataset.dropna()"
   ]
  },
  {
   "cell_type": "code",
   "execution_count": 93,
   "metadata": {},
   "outputs": [],
   "source": [
    "def removePercentage(value):\n",
    "    decimal_value=value[:-1]\n",
    "    decimal_value=(int(decimal_value)/100)\n",
    "    return decimal_value"
   ]
  },
  {
   "cell_type": "code",
   "execution_count": 94,
   "metadata": {},
   "outputs": [
    {
     "data": {
      "text/html": [
       "<div>\n",
       "<style scoped>\n",
       "    .dataframe tbody tr th:only-of-type {\n",
       "        vertical-align: middle;\n",
       "    }\n",
       "\n",
       "    .dataframe tbody tr th {\n",
       "        vertical-align: top;\n",
       "    }\n",
       "\n",
       "    .dataframe thead th {\n",
       "        text-align: right;\n",
       "    }\n",
       "</style>\n",
       "<table border=\"1\" class=\"dataframe\">\n",
       "  <thead>\n",
       "    <tr style=\"text-align: right;\">\n",
       "      <th></th>\n",
       "      <th>Duration</th>\n",
       "      <th>Operational Cost</th>\n",
       "      <th>Total Fund</th>\n",
       "      <th>Revenue</th>\n",
       "      <th>Profit</th>\n",
       "      <th>Net Profit Margin</th>\n",
       "      <th>Valuation</th>\n",
       "      <th>Userbase</th>\n",
       "      <th>Daily Active User</th>\n",
       "    </tr>\n",
       "  </thead>\n",
       "  <tbody>\n",
       "    <tr>\n",
       "      <th>0</th>\n",
       "      <td>0.0</td>\n",
       "      <td>120000</td>\n",
       "      <td>1000000</td>\n",
       "      <td>520000</td>\n",
       "      <td>400000</td>\n",
       "      <td>0.77</td>\n",
       "      <td>1400000</td>\n",
       "      <td>200000</td>\n",
       "      <td>46000.0</td>\n",
       "    </tr>\n",
       "    <tr>\n",
       "      <th>1</th>\n",
       "      <td>0.5</td>\n",
       "      <td>120000</td>\n",
       "      <td>1000000</td>\n",
       "      <td>520000</td>\n",
       "      <td>400000</td>\n",
       "      <td>0.77</td>\n",
       "      <td>1400000</td>\n",
       "      <td>200000</td>\n",
       "      <td>46000.0</td>\n",
       "    </tr>\n",
       "    <tr>\n",
       "      <th>2</th>\n",
       "      <td>1.0</td>\n",
       "      <td>120000</td>\n",
       "      <td>1000000</td>\n",
       "      <td>520000</td>\n",
       "      <td>400000</td>\n",
       "      <td>0.77</td>\n",
       "      <td>1400000</td>\n",
       "      <td>200000</td>\n",
       "      <td>46000.0</td>\n",
       "    </tr>\n",
       "    <tr>\n",
       "      <th>3</th>\n",
       "      <td>1.5</td>\n",
       "      <td>220000</td>\n",
       "      <td>1000000</td>\n",
       "      <td>520000</td>\n",
       "      <td>300000</td>\n",
       "      <td>0.58</td>\n",
       "      <td>1300000</td>\n",
       "      <td>200000</td>\n",
       "      <td>46000.0</td>\n",
       "    </tr>\n",
       "    <tr>\n",
       "      <th>4</th>\n",
       "      <td>2.0</td>\n",
       "      <td>220000</td>\n",
       "      <td>1000000</td>\n",
       "      <td>520000</td>\n",
       "      <td>300000</td>\n",
       "      <td>0.58</td>\n",
       "      <td>1300000</td>\n",
       "      <td>200000</td>\n",
       "      <td>46000.0</td>\n",
       "    </tr>\n",
       "  </tbody>\n",
       "</table>\n",
       "</div>"
      ],
      "text/plain": [
       "   Duration  Operational Cost  Total Fund  Revenue  Profit  Net Profit Margin  \\\n",
       "0       0.0            120000     1000000   520000  400000               0.77   \n",
       "1       0.5            120000     1000000   520000  400000               0.77   \n",
       "2       1.0            120000     1000000   520000  400000               0.77   \n",
       "3       1.5            220000     1000000   520000  300000               0.58   \n",
       "4       2.0            220000     1000000   520000  300000               0.58   \n",
       "\n",
       "   Valuation  Userbase  Daily Active User  \n",
       "0    1400000    200000            46000.0  \n",
       "1    1400000    200000            46000.0  \n",
       "2    1400000    200000            46000.0  \n",
       "3    1300000    200000            46000.0  \n",
       "4    1300000    200000            46000.0  "
      ]
     },
     "execution_count": 94,
     "metadata": {},
     "output_type": "execute_result"
    }
   ],
   "source": [
    "dataset['Net Profit Margin'] = dataset['Net Profit Margin'].apply(lambda x: removePercentage(x))\n",
    "dataset.head()"
   ]
  },
  {
   "cell_type": "code",
   "execution_count": 95,
   "metadata": {},
   "outputs": [],
   "source": [
    "X = dataset.drop('Valuation', axis=1)\n",
    "y = dataset['Valuation']"
   ]
  },
  {
   "cell_type": "code",
   "execution_count": 96,
   "metadata": {},
   "outputs": [],
   "source": [
    "scaler = StandardScaler()\n",
    "X_scaled = scaler.fit_transform(X)\n",
    "y_scaled = scaler.fit_transform(y.values.reshape(-1, 1))"
   ]
  },
  {
   "cell_type": "code",
   "execution_count": 97,
   "metadata": {},
   "outputs": [],
   "source": [
    "X_train, X_test, y_train, y_test = train_test_split(X_scaled, y_scaled, test_size=0.2, random_state=42)\n"
   ]
  },
  {
   "cell_type": "code",
   "execution_count": 98,
   "metadata": {},
   "outputs": [
    {
     "name": "stdout",
     "output_type": "stream",
     "text": [
      "Mean Squared Error (MSE): 0.0025110481745965864\n",
      "R-squared (R2): 0.997260111630331\n",
      "Accuracy: 99.73%\n"
     ]
    },
    {
     "data": {
      "image/png": "[encoded data removed]",
      "text/plain": [
       "<Figure size 432x288 with 1 Axes>"
      ]
     },
     "metadata": {
      "needs_background": "light"
     },
     "output_type": "display_data"
    }
   ],
   "source": [
    "\n",
    "# Model training\n",
    "model = SVR(kernel='linear')\n",
    "model.fit(X_train, y_train.ravel())\n",
    "\n",
    "# Model evaluation\n",
    "y_pred = model.predict(X_test)\n",
    "mse = mean_squared_error(y_test, y_pred)\n",
    "r2 = r2_score(y_test, y_pred)\n",
    "\n",
    "y_pred_reshaped = y_pred.reshape(-1, 1)\n",
    "\n",
    "# Rescale predictions for accuracy calculation\n",
    "y_pred_rescaled = scaler.inverse_transform(y_pred_reshaped)\n",
    "y_test_rescaled = scaler.inverse_transform(y_test)\n",
    "\n",
    "# Calculate accuracy\n",
    "accuracy = r2 * 100\n",
    "\n",
    "print(\"Mean Squared Error (MSE):\", mse)\n",
    "print(\"R-squared (R2):\", r2)\n",
    "print(\"Accuracy: {:.2f}%\".format(accuracy))\n",
    "\n",
    "# Plotting the results\n",
    "plt.scatter(y_test_rescaled, y_pred_rescaled)\n",
    "plt.plot([min(y_test_rescaled), max(y_test_rescaled)], [min(y_test_rescaled), max(y_test_rescaled)], 'k--', lw=2)\n",
    "plt.xlabel('Actual Valuation')\n",
    "plt.ylabel('Predicted Valuation')\n",
    "plt.title('SVR: Actual vs. Predicted Valuation')\n",
    "plt.show()"
   ]
  },
  {
   "cell_type": "code",
   "execution_count": 99,
   "metadata": {},
   "outputs": [
    {
     "name": "stdout",
     "output_type": "stream",
     "text": [
      "Predicted Valuation: [[177715.61714228]]\n"
     ]
    },
    {
     "name": "stderr",
     "output_type": "stream",
     "text": [
      "c:\\Users\\farha\\anaconda3\\lib\\site-packages\\sklearn\\base.py:443: UserWarning: X has feature names, but StandardScaler was fitted without feature names\n",
      "  warnings.warn(\n",
      "c:\\Users\\farha\\anaconda3\\lib\\site-packages\\sklearn\\base.py:443: UserWarning: X has feature names, but StandardScaler was fitted without feature names\n",
      "  warnings.warn(\n",
      "c:\\Users\\farha\\anaconda3\\lib\\site-packages\\sklearn\\base.py:443: UserWarning: X has feature names, but StandardScaler was fitted without feature names\n",
      "  warnings.warn(\n",
      "c:\\Users\\farha\\anaconda3\\lib\\site-packages\\sklearn\\base.py:443: UserWarning: X has feature names, but StandardScaler was fitted without feature names\n",
      "  warnings.warn(\n",
      "c:\\Users\\farha\\anaconda3\\lib\\site-packages\\sklearn\\base.py:443: UserWarning: X has feature names, but StandardScaler was fitted without feature names\n",
      "  warnings.warn(\n",
      "c:\\Users\\farha\\anaconda3\\lib\\site-packages\\sklearn\\base.py:443: UserWarning: X has feature names, but StandardScaler was fitted without feature names\n",
      "  warnings.warn(\n",
      "c:\\Users\\farha\\anaconda3\\lib\\site-packages\\sklearn\\base.py:443: UserWarning: X has feature names, but StandardScaler was fitted without feature names\n",
      "  warnings.warn(\n",
      "c:\\Users\\farha\\anaconda3\\lib\\site-packages\\sklearn\\base.py:443: UserWarning: X has feature names, but StandardScaler was fitted without feature names\n",
      "  warnings.warn(\n",
      "c:\\Users\\farha\\anaconda3\\lib\\site-packages\\sklearn\\base.py:443: UserWarning: X has feature names, but SVR was fitted without feature names\n",
      "  warnings.warn(\n"
     ]
    }
   ],
   "source": [
    "# Test the model\n",
    "new_data = pd.DataFrame([[10, 1300000, 600, 1220, -80000, -0.07,700000,1610000]],\n",
    "                        columns=['Duration', 'Operational Cost', 'Total Fund', 'Revenue', 'Profit', 'Net Profit Margin','Userbase','Daily Active User'])\n",
    "\n",
    "# Preprocess the new data\n",
    "new_data_scaled = new_data.copy()\n",
    "for feature in new_data.columns:\n",
    "    new_data_scaled[feature] = scaler.transform(new_data[[feature]])\n",
    "\n",
    "# Make predictions\n",
    "new_data_pred = model.predict(new_data_scaled)\n",
    "\n",
    "# Rescale the predictions\n",
    "new_data_pred_rescaled = scaler.inverse_transform(new_data_pred.reshape(-1, 1))\n",
    "\n",
    "print(\"Predicted Valuation:\", new_data_pred_rescaled)\n",
    "\n",
    "\n"
   ]
  }
 ],
 "metadata": {
  "kernelspec": {
   "display_name": "base",
   "language": "python",
   "name": "python3"
  },
  "language_info": {
   "codemirror_mode": {
    "name": "ipython",
    "version": 3
   },
   "file_extension": ".py",
   "mimetype": "text/x-python",
   "name": "python",
   "nbconvert_exporter": "python",
   "pygments_lexer": "ipython3",
   "version": "3.9.12"
  },
  "orig_nbformat": 4
 },
 "nbformat": 4,
 "nbformat_minor": 2
}
